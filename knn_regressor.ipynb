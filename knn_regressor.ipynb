{
 "cells": [
  {
   "cell_type": "code",
   "execution_count": 1,
   "id": "3aab9cdc",
   "metadata": {},
   "outputs": [
    {
     "name": "stdout",
     "output_type": "stream",
     "text": [
      "Mean Square Error: 29.777777777777764\n",
      "R squared: 93.54\n"
     ]
    }
   ],
   "source": [
    "import pandas as pd\n",
    "from sklearn.model_selection import train_test_split,GridSearchCV\n",
    "from sklearn.metrics import mean_squared_error,r2_score\n",
    "\n",
    "#prepare data\n",
    "df= pd.read_csv('score.csv')\n",
    "\n",
    "X=df[['Hours']]\n",
    "y=df['Scores']\n",
    "\n",
    "#train test split\n",
    "x_train,x_test,y_train,y_test= train_test_split(X,y,test_size=0.3,random_state=42)\n",
    "\n",
    "from sklearn.neighbors import KNeighborsRegressor\n",
    "\n",
    "knn_regression = KNeighborsRegressor()\n",
    "\n",
    "# find best parameters using grid search \n",
    "params = {\n",
    "    'n_neighbors': [1, 3, 5, 7, 9],\n",
    "    'metric': ['euclidean', 'manhattan']\n",
    "}\n",
    "\n",
    "grid_search= GridSearchCV(knn_regression,params,cv=5,scoring='neg_mean_squared_error')\n",
    "\n",
    "grid_search.fit(x_train,y_train)\n",
    "\n",
    "#train data using best parameters \n",
    "best_knn = grid_search.best_estimator_\n",
    "y_pred = best_knn.predict(x_test)\n",
    "\n",
    "#findind mean seuqres error and r score\n",
    "meanSqErr =mean_squared_error(y_test, y_pred)\n",
    "print('Mean Square Error:', meanSqErr)\n",
    "print('R squared: {:.2f}'.format(r2_score(y_test, y_pred)*100))\n"
   ]
  },
  {
   "cell_type": "code",
   "execution_count": 4,
   "id": "a3e018b9",
   "metadata": {},
   "outputs": [
    {
     "data": {
      "text/plain": [
       "25"
      ]
     },
     "execution_count": 4,
     "metadata": {},
     "output_type": "execute_result"
    }
   ],
   "source": [
    "X.shape[0]"
   ]
  }
 ],
 "metadata": {
  "kernelspec": {
   "display_name": "venv",
   "language": "python",
   "name": "python3"
  },
  "language_info": {
   "codemirror_mode": {
    "name": "ipython",
    "version": 3
   },
   "file_extension": ".py",
   "mimetype": "text/x-python",
   "name": "python",
   "nbconvert_exporter": "python",
   "pygments_lexer": "ipython3",
   "version": "3.12.4"
  }
 },
 "nbformat": 4,
 "nbformat_minor": 5
}
