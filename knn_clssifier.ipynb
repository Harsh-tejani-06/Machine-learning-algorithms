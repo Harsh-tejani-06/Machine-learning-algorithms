{
 "cells": [
  {
   "cell_type": "code",
   "execution_count": 1,
   "id": "b70940b9",
   "metadata": {},
   "outputs": [
    {
     "name": "stdout",
     "output_type": "stream",
     "text": [
      "Best parameters: {'metric': 'euclidean', 'n_neighbors': 1}\n",
      "Accuracy: 1.0\n",
      "Accuracy (%): 100.0\n"
     ]
    },
    {
     "name": "stderr",
     "output_type": "stream",
     "text": [
      "d:\\Data science\\venv\\Lib\\site-packages\\sklearn\\model_selection\\_split.py:805: UserWarning: The least populated class in y has only 4 members, which is less than n_splits=5.\n",
      "  warnings.warn(\n"
     ]
    }
   ],
   "source": [
    "import pandas as pd\n",
    "from sklearn.model_selection import train_test_split, GridSearchCV\n",
    "from sklearn.neighbors import KNeighborsClassifier\n",
    "from sklearn.metrics import accuracy_score\n",
    "\n",
    "# Load your dataset\n",
    "df = pd.read_csv('knn_classifier.csv')\n",
    "\n",
    "# Map labels to numeric codes\n",
    "label_map = {\n",
    "    'Underweight': 0,\n",
    "    'Normal': 1,\n",
    "    'Overweight': 2\n",
    "}\n",
    "df['weight_code'] = df['Class'].map(label_map)\n",
    "\n",
    "# Split into features and target\n",
    "X = df[['Weight(x2)', 'Height(y2)']]\n",
    "y = df['weight_code']\n",
    "\n",
    "# Train-test split\n",
    "x_train, x_test, y_train, y_test = train_test_split(X, y, test_size=0.3, random_state=43)\n",
    "\n",
    "# Define KNN classifier\n",
    "knn_cla = KNeighborsClassifier()\n",
    "\n",
    "# Define parameter grid\n",
    "params = {\n",
    "    'n_neighbors': [1, 3, 5, 7, 9],\n",
    "    'metric': ['euclidean', 'manhattan']\n",
    "}\n",
    "\n",
    "# GridSearchCV\n",
    "grid_search = GridSearchCV(knn_cla, params, cv=5, scoring='accuracy')\n",
    "grid_search.fit(x_train, y_train)\n",
    "\n",
    "# Predict using the best model\n",
    "best_knn = grid_search.best_estimator_\n",
    "y_pred = best_knn.predict(x_test)\n",
    "\n",
    "# Accuracy\n",
    "accuracy = accuracy_score(y_test, y_pred)\n",
    "print(\"Best parameters:\", grid_search.best_params_)\n",
    "print(\"Accuracy:\", accuracy)\n",
    "print(\"Accuracy (%):\", accuracy * 100)\n"
   ]
  }
 ],
 "metadata": {
  "kernelspec": {
   "display_name": "venv",
   "language": "python",
   "name": "python3"
  },
  "language_info": {
   "codemirror_mode": {
    "name": "ipython",
    "version": 3
   },
   "file_extension": ".py",
   "mimetype": "text/x-python",
   "name": "python",
   "nbconvert_exporter": "python",
   "pygments_lexer": "ipython3",
   "version": "3.12.4"
  }
 },
 "nbformat": 4,
 "nbformat_minor": 5
}
