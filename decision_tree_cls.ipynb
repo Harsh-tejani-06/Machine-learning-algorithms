{
 "cells": [
  {
   "cell_type": "code",
   "execution_count": 6,
   "id": "b4474ad7",
   "metadata": {},
   "outputs": [
    {
     "name": "stdout",
     "output_type": "stream",
     "text": [
      "Accuracy of model is: 0.7\n"
     ]
    }
   ],
   "source": [
    "import pandas as pd\n",
    "from sklearn.model_selection import train_test_split,GridSearchCV\n",
    "\n",
    "df= pd.read_csv('logistic_regression.csv')\n",
    "\n",
    "X= df[['Studied','Slept']]\n",
    "y=df['Passed']\n",
    "\n",
    "x_train,x_test,y_train,y_test = train_test_split(X,y,test_size=0.3,random_state=43)\n",
    "\n",
    "from sklearn.tree import DecisionTreeClassifier\n",
    "\n",
    "#without preprunnig or using post prunning or defult value\n",
    "\n",
    "tree= DecisionTreeClassifier()\n",
    "tree.fit(x_train,y_train)\n",
    "y_pre= tree.predict(x_test)\n",
    "\n",
    "from sklearn.metrics import accuracy_score\n",
    "\n",
    "print(\"Accuracy of model is:\",accuracy_score(y_test,y_pre))\n",
    "\n"
   ]
  },
  {
   "cell_type": "code",
   "execution_count": 7,
   "id": "73a52a34",
   "metadata": {},
   "outputs": [
    {
     "name": "stdout",
     "output_type": "stream",
     "text": [
      "Accuracy of model is: 0.8333333333333334\n"
     ]
    }
   ],
   "source": [
    "\n",
    "#using preprunning \n",
    "tree =DecisionTreeClassifier()\n",
    "parameter= {\n",
    "    \n",
    "    'criterion': ['gini', 'entropy','log_loss'],\n",
    "    'max_depth': [None, 3, 5, 7, 10],\n",
    "    'min_samples_split': [2, 5, 10],\n",
    "    'min_samples_leaf': [1, 2, 4],\n",
    "    'max_features': [None, 'sqrt', 'log2']\n",
    "}\n",
    "\n",
    "grid= GridSearchCV(tree,param_grid=parameter,cv=5,scoring='accuracy')\n",
    "grid.fit(x_train,y_train)\n",
    "\n",
    "y_pre = grid.predict(x_test)\n",
    "\n",
    "print(\"Accuracy of model is:\",accuracy_score(y_test,y_pre))"
   ]
  }
 ],
 "metadata": {
  "kernelspec": {
   "display_name": "venv",
   "language": "python",
   "name": "python3"
  },
  "language_info": {
   "codemirror_mode": {
    "name": "ipython",
    "version": 3
   },
   "file_extension": ".py",
   "mimetype": "text/x-python",
   "name": "python",
   "nbconvert_exporter": "python",
   "pygments_lexer": "ipython3",
   "version": "3.12.4"
  }
 },
 "nbformat": 4,
 "nbformat_minor": 5
}
